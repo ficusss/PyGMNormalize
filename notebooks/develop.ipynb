{
 "cells": [
  {
   "cell_type": "code",
   "execution_count": 1,
   "metadata": {},
   "outputs": [],
   "source": [
    "import numpy as np\n",
    "import pandas as pd"
   ]
  },
  {
   "cell_type": "code",
   "execution_count": 16,
   "metadata": {},
   "outputs": [],
   "source": [
    "base_log = 2"
   ]
  },
  {
   "cell_type": "code",
   "execution_count": 15,
   "metadata": {},
   "outputs": [
    {
     "data": {
      "text/plain": [
       "array([[1, 4, 0],\n",
       "       [6, 5, 8],\n",
       "       [8, 1, 9],\n",
       "       [3, 8, 7],\n",
       "       [7, 2, 6],\n",
       "       [8, 9, 7],\n",
       "       [5, 7, 6],\n",
       "       [5, 5, 4]])"
      ]
     },
     "execution_count": 15,
     "metadata": {},
     "output_type": "execute_result"
    }
   ],
   "source": [
    "matrix = np.random.randint(0, 10, size=(8, 3))\n",
    "count_columns = matrix.shape[1]\n",
    "matrix"
   ]
  },
  {
   "cell_type": "markdown",
   "metadata": {},
   "source": [
    "## mean estimation"
   ]
  },
  {
   "cell_type": "code",
   "execution_count": 8,
   "metadata": {},
   "outputs": [
    {
     "data": {
      "text/plain": [
       "(array([[1, 7, 7],\n",
       "        [1, 2, 7],\n",
       "        [3, 3, 2],\n",
       "        [7, 6, 8],\n",
       "        [7, 7, 5]]),\n",
       " array([3.65930571, 2.41014226, 2.62074139, 6.95205329, 6.25732475]))"
      ]
     },
     "execution_count": 8,
     "metadata": {},
     "output_type": "execute_result"
    }
   ],
   "source": [
    "K = matrix[~np.any(matrix == 0, axis=1)]\n",
    "K_R = np.array([np.prod(row) for row in K]) ** (1/count_columns)\n",
    "Sj = np.median( K.T / K_R , axis=1)\n",
    "Sij = Sj\n",
    "\n",
    "Qij = base_log ** (1)\n",
    "\n",
    "MUij = Sij * Qij\n",
    "\n",
    "K, K_R"
   ]
  },
  {
   "cell_type": "code",
   "execution_count": 14,
   "metadata": {},
   "outputs": [
    {
     "data": {
      "text/plain": [
       "(array([1.00689677, 1.11868894, 1.15073917]),\n",
       " array([4.44450728, 2.95466806, 2.46639178, 6.42250926, 5.85147045]))"
      ]
     },
     "execution_count": 14,
     "metadata": {},
     "output_type": "execute_result"
    }
   ],
   "source": [
    "\n",
    "MUi = np.sum(K / Sij, axis=1) / count_columns\n",
    "Sj, MUi"
   ]
  },
  {
   "cell_type": "code",
   "execution_count": null,
   "metadata": {},
   "outputs": [],
   "source": []
  }
 ],
 "metadata": {
  "kernelspec": {
   "display_name": "Python 3",
   "language": "python",
   "name": "python3"
  },
  "language_info": {
   "codemirror_mode": {
    "name": "ipython",
    "version": 3
   },
   "file_extension": ".py",
   "mimetype": "text/x-python",
   "name": "python",
   "nbconvert_exporter": "python",
   "pygments_lexer": "ipython3",
   "version": "3.6.8"
  }
 },
 "nbformat": 4,
 "nbformat_minor": 2
}
