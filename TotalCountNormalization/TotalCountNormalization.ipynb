{
 "cells": [
  {
   "cell_type": "markdown",
   "metadata": {
    "run_control": {
     "frozen": false,
     "read_only": false
    }
   },
   "source": [
    "<span style=\"color:red\">It's better to use headers:</span>"
   ]
  },
  {
   "cell_type": "markdown",
   "metadata": {
    "run_control": {
     "frozen": false,
     "read_only": false
    }
   },
   "source": [
    "### Initialization"
   ]
  },
  {
   "cell_type": "markdown",
   "metadata": {
    "collapsed": true,
    "run_control": {
     "frozen": false,
     "read_only": false
    }
   },
   "source": [
    "~~Import.~~ <span style=\"color:red\">You don't need to write obvious comments.</span>"
   ]
  },
  {
   "cell_type": "code",
   "execution_count": 6,
   "metadata": {
    "collapsed": true,
    "run_control": {
     "frozen": false,
     "read_only": false
    }
   },
   "outputs": [],
   "source": [
    "import numpy as np\n",
    "import pandas as pd"
   ]
  },
  {
   "cell_type": "markdown",
   "metadata": {
    "run_control": {
     "frozen": false,
     "read_only": false
    }
   },
   "source": [
    "Read input data."
   ]
  },
  {
   "cell_type": "code",
   "execution_count": 7,
   "metadata": {
    "collapsed": true,
    "run_control": {
     "frozen": false,
     "read_only": false
    }
   },
   "outputs": [],
   "source": [
    "# def readData(fileName):\n",
    "#     file = open(fileName, \"r\")\n",
    "#     matrix = []\n",
    "#     for line in file:\n",
    "#         matrix.append(np.array([int(i) for i in line.split()]))\n",
    "#     file.close()\n",
    "#     return np.array(matrix)"
   ]
  },
  {
   "cell_type": "markdown",
   "metadata": {
    "run_control": {
     "frozen": false,
     "read_only": false
    }
   },
   "source": [
    "~~Function for total count normalization.~~ <span style=\"color:red\">Use [dockstring](https://www.python.org/dev/peps/pep-0257/) to comment functions. I prefer [numpy style](http://sphinxcontrib-napoleon.readthedocs.io/en/latest/example_numpy.html). In such trivial cases comments aren't necessary, but for more complicated functions you have to write them.</span>"
   ]
  },
  {
   "cell_type": "code",
   "execution_count": 8,
   "metadata": {
    "collapsed": true,
    "run_control": {
     "frozen": false,
     "read_only": false
    }
   },
   "outputs": [],
   "source": [
    "def totalCountNormalization(matrix):\n",
    "    \"\"\"\n",
    "    Total count normalization\n",
    "    \n",
    "    Parameters\n",
    "    ----------\n",
    "    matrix : array_like\n",
    "        Matrix to normalize.\n",
    "        \n",
    "    Returns\n",
    "    -------\n",
    "    array_like\n",
    "        Normalized matrix.\n",
    "    \"\"\"\n",
    "    return matrix / matrix.sum(axis=0)"
   ]
  },
  {
   "cell_type": "markdown",
   "metadata": {
    "run_control": {
     "frozen": false,
     "read_only": false
    }
   },
   "source": [
    "### Numeric test"
   ]
  },
  {
   "cell_type": "markdown",
   "metadata": {
    "run_control": {
     "frozen": false,
     "read_only": false
    }
   },
   "source": [
    "<span style=\"color:red\">You don't need manual read function:</span>"
   ]
  },
  {
   "cell_type": "code",
   "execution_count": 47,
   "metadata": {
    "collapsed": true,
    "run_control": {
     "frozen": false,
     "read_only": false
    }
   },
   "outputs": [],
   "source": [
    "matrix = pd.read_table('../test_data/dataset.txt', sep=' ', header=None)"
   ]
  },
  {
   "cell_type": "code",
   "execution_count": 29,
   "metadata": {
    "collapsed": true,
    "run_control": {
     "frozen": false,
     "read_only": false
    }
   },
   "outputs": [],
   "source": [
    "# print(\"Before =\\n\", matrix, end='\\n\\n')\n",
    "# normal_matrix = totalCountNormalization(matrix)\n",
    "# print(\"After =\\n\", normal_matrix)"
   ]
  },
  {
   "cell_type": "markdown",
   "metadata": {
    "run_control": {
     "frozen": false,
     "read_only": false
    }
   },
   "source": [
    "<span style=\"color:red\">\"print\" for DataFrame doesn't works well. Also you don't need to print constant strings as you have markdown comments:</span>"
   ]
  },
  {
   "cell_type": "markdown",
   "metadata": {
    "run_control": {
     "frozen": false,
     "read_only": false
    }
   },
   "source": [
    "Before:"
   ]
  },
  {
   "cell_type": "code",
   "execution_count": 46,
   "metadata": {
    "run_control": {
     "frozen": false,
     "read_only": false
    }
   },
   "outputs": [
    {
     "data": {
      "text/html": [
       "<div>\n",
       "<table border=\"1\" class=\"dataframe\">\n",
       "  <thead>\n",
       "    <tr style=\"text-align: right;\">\n",
       "      <th></th>\n",
       "      <th>0</th>\n",
       "      <th>1</th>\n",
       "      <th>2</th>\n",
       "    </tr>\n",
       "  </thead>\n",
       "  <tbody>\n",
       "    <tr>\n",
       "      <th>0</th>\n",
       "      <td>5</td>\n",
       "      <td>10</td>\n",
       "      <td>1</td>\n",
       "    </tr>\n",
       "    <tr>\n",
       "      <th>1</th>\n",
       "      <td>10</td>\n",
       "      <td>20</td>\n",
       "      <td>2</td>\n",
       "    </tr>\n",
       "    <tr>\n",
       "      <th>2</th>\n",
       "      <td>1</td>\n",
       "      <td>2</td>\n",
       "      <td>5</td>\n",
       "    </tr>\n",
       "    <tr>\n",
       "      <th>3</th>\n",
       "      <td>353</td>\n",
       "      <td>0</td>\n",
       "      <td>2</td>\n",
       "    </tr>\n",
       "    <tr>\n",
       "      <th>4</th>\n",
       "      <td>7</td>\n",
       "      <td>7</td>\n",
       "      <td>7</td>\n",
       "    </tr>\n",
       "    <tr>\n",
       "      <th>5</th>\n",
       "      <td>9</td>\n",
       "      <td>9</td>\n",
       "      <td>9</td>\n",
       "    </tr>\n",
       "    <tr>\n",
       "      <th>6</th>\n",
       "      <td>8</td>\n",
       "      <td>9</td>\n",
       "      <td>8</td>\n",
       "    </tr>\n",
       "    <tr>\n",
       "      <th>7</th>\n",
       "      <td>1</td>\n",
       "      <td>4</td>\n",
       "      <td>1</td>\n",
       "    </tr>\n",
       "  </tbody>\n",
       "</table>\n",
       "</div>"
      ],
      "text/plain": [
       "     0   1  2\n",
       "0    5  10  1\n",
       "1   10  20  2\n",
       "2    1   2  5\n",
       "3  353   0  2\n",
       "4    7   7  7\n",
       "5    9   9  9\n",
       "6    8   9  8\n",
       "7    1   4  1"
      ]
     },
     "execution_count": 46,
     "metadata": {},
     "output_type": "execute_result"
    }
   ],
   "source": [
    "matrix"
   ]
  },
  {
   "cell_type": "markdown",
   "metadata": {
    "run_control": {
     "frozen": false,
     "read_only": false
    }
   },
   "source": [
    "After:"
   ]
  },
  {
   "cell_type": "code",
   "execution_count": 34,
   "metadata": {
    "run_control": {
     "frozen": false,
     "read_only": false
    }
   },
   "outputs": [
    {
     "data": {
      "text/html": [
       "<div>\n",
       "<table border=\"1\" class=\"dataframe\">\n",
       "  <thead>\n",
       "    <tr style=\"text-align: right;\">\n",
       "      <th></th>\n",
       "      <th>0</th>\n",
       "      <th>1</th>\n",
       "      <th>2</th>\n",
       "    </tr>\n",
       "  </thead>\n",
       "  <tbody>\n",
       "    <tr>\n",
       "      <th>0</th>\n",
       "      <td>0.012690</td>\n",
       "      <td>0.163934</td>\n",
       "      <td>0.028571</td>\n",
       "    </tr>\n",
       "    <tr>\n",
       "      <th>1</th>\n",
       "      <td>0.025381</td>\n",
       "      <td>0.327869</td>\n",
       "      <td>0.057143</td>\n",
       "    </tr>\n",
       "    <tr>\n",
       "      <th>2</th>\n",
       "      <td>0.002538</td>\n",
       "      <td>0.032787</td>\n",
       "      <td>0.142857</td>\n",
       "    </tr>\n",
       "    <tr>\n",
       "      <th>3</th>\n",
       "      <td>0.895939</td>\n",
       "      <td>0.000000</td>\n",
       "      <td>0.057143</td>\n",
       "    </tr>\n",
       "    <tr>\n",
       "      <th>4</th>\n",
       "      <td>0.017766</td>\n",
       "      <td>0.114754</td>\n",
       "      <td>0.200000</td>\n",
       "    </tr>\n",
       "    <tr>\n",
       "      <th>5</th>\n",
       "      <td>0.022843</td>\n",
       "      <td>0.147541</td>\n",
       "      <td>0.257143</td>\n",
       "    </tr>\n",
       "    <tr>\n",
       "      <th>6</th>\n",
       "      <td>0.020305</td>\n",
       "      <td>0.147541</td>\n",
       "      <td>0.228571</td>\n",
       "    </tr>\n",
       "    <tr>\n",
       "      <th>7</th>\n",
       "      <td>0.002538</td>\n",
       "      <td>0.065574</td>\n",
       "      <td>0.028571</td>\n",
       "    </tr>\n",
       "  </tbody>\n",
       "</table>\n",
       "</div>"
      ],
      "text/plain": [
       "          0         1         2\n",
       "0  0.012690  0.163934  0.028571\n",
       "1  0.025381  0.327869  0.057143\n",
       "2  0.002538  0.032787  0.142857\n",
       "3  0.895939  0.000000  0.057143\n",
       "4  0.017766  0.114754  0.200000\n",
       "5  0.022843  0.147541  0.257143\n",
       "6  0.020305  0.147541  0.228571\n",
       "7  0.002538  0.065574  0.028571"
      ]
     },
     "execution_count": 34,
     "metadata": {},
     "output_type": "execute_result"
    }
   ],
   "source": [
    "normal_matrix = totalCountNormalization(matrix)\n",
    "normal_matrix"
   ]
  },
  {
   "cell_type": "markdown",
   "metadata": {
    "collapsed": true,
    "run_control": {
     "frozen": false,
     "read_only": false
    }
   },
   "source": [
    "### Performance test"
   ]
  },
  {
   "cell_type": "code",
   "execution_count": 19,
   "metadata": {
    "run_control": {
     "frozen": false,
     "read_only": false
    }
   },
   "outputs": [
    {
     "name": "stdout",
     "output_type": "stream",
     "text": [
      "totalCountNormalization - CPU times: user 118 ms, sys: 18 ms, total: 136 ms\n",
      "Wall time: 135 ms\n"
     ]
    }
   ],
   "source": [
    "matrix = np.random.randint(0, 1000, size=(3000, 5000))\n",
    "\n",
    "print(\"totalCountNormalization - \", end=\"\")\n",
    "%time normal_matrix = totalCountNormalization(matrix)"
   ]
  },
  {
   "cell_type": "code",
   "execution_count": 27,
   "metadata": {
    "run_control": {
     "frozen": false,
     "read_only": false
    }
   },
   "outputs": [
    {
     "data": {
      "text/html": [
       "<div>\n",
       "<table border=\"1\" class=\"dataframe\">\n",
       "  <thead>\n",
       "    <tr style=\"text-align: right;\">\n",
       "      <th></th>\n",
       "      <th>0</th>\n",
       "      <th>1</th>\n",
       "      <th>2</th>\n",
       "    </tr>\n",
       "  </thead>\n",
       "  <tbody>\n",
       "    <tr>\n",
       "      <th>0</th>\n",
       "      <td>5</td>\n",
       "      <td>10</td>\n",
       "      <td>1</td>\n",
       "    </tr>\n",
       "    <tr>\n",
       "      <th>1</th>\n",
       "      <td>10</td>\n",
       "      <td>20</td>\n",
       "      <td>2</td>\n",
       "    </tr>\n",
       "    <tr>\n",
       "      <th>2</th>\n",
       "      <td>1</td>\n",
       "      <td>2</td>\n",
       "      <td>5</td>\n",
       "    </tr>\n",
       "    <tr>\n",
       "      <th>3</th>\n",
       "      <td>353</td>\n",
       "      <td>0</td>\n",
       "      <td>2</td>\n",
       "    </tr>\n",
       "    <tr>\n",
       "      <th>4</th>\n",
       "      <td>7</td>\n",
       "      <td>7</td>\n",
       "      <td>7</td>\n",
       "    </tr>\n",
       "    <tr>\n",
       "      <th>5</th>\n",
       "      <td>9</td>\n",
       "      <td>9</td>\n",
       "      <td>9</td>\n",
       "    </tr>\n",
       "    <tr>\n",
       "      <th>6</th>\n",
       "      <td>8</td>\n",
       "      <td>9</td>\n",
       "      <td>8</td>\n",
       "    </tr>\n",
       "    <tr>\n",
       "      <th>7</th>\n",
       "      <td>1</td>\n",
       "      <td>4</td>\n",
       "      <td>1</td>\n",
       "    </tr>\n",
       "  </tbody>\n",
       "</table>\n",
       "</div>"
      ],
      "text/plain": [
       "     0   1  2\n",
       "0    5  10  1\n",
       "1   10  20  2\n",
       "2    1   2  5\n",
       "3  353   0  2\n",
       "4    7   7  7\n",
       "5    9   9  9\n",
       "6    8   9  8\n",
       "7    1   4  1"
      ]
     },
     "execution_count": 27,
     "metadata": {},
     "output_type": "execute_result"
    }
   ],
   "source": [
    "matrix"
   ]
  },
  {
   "cell_type": "markdown",
   "metadata": {
    "run_control": {
     "frozen": false,
     "read_only": false
    }
   },
   "source": [
    "Read matrix from .csv file and normalize it:"
   ]
  },
  {
   "cell_type": "markdown",
   "metadata": {
    "run_control": {
     "frozen": false,
     "read_only": false
    }
   },
   "source": [
    "<span style=\"color:red\">Use special argument *\"index_col\"* to correctly process column names:</span>"
   ]
  },
  {
   "cell_type": "code",
   "execution_count": 38,
   "metadata": {
    "run_control": {
     "frozen": false,
     "read_only": false
    }
   },
   "outputs": [
    {
     "data": {
      "text/html": [
       "<div>\n",
       "<table border=\"1\" class=\"dataframe\">\n",
       "  <thead>\n",
       "    <tr style=\"text-align: right;\">\n",
       "      <th></th>\n",
       "      <th>AGCACCTCTAAGCTTCT</th>\n",
       "      <th>GAGACAGATACGCTAGTC</th>\n",
       "      <th>CCAACCGTCGATTGAT</th>\n",
       "      <th>TGATATTGCCTAACAATCC</th>\n",
       "      <th>ATATGCATACTAGGAT</th>\n",
       "      <th>GACTAGACCCAAACGCCT</th>\n",
       "      <th>ACCTTGCCAAACCTCC</th>\n",
       "      <th>GATGACCCTCACCTTGCC</th>\n",
       "      <th>AATATACCTATATGCAT</th>\n",
       "      <th>GATAACCATCCCTCGTCT</th>\n",
       "      <th>...</th>\n",
       "      <th>TGAATGCATGGGGTTAGTG</th>\n",
       "      <th>TGAAGCGTAGGGAACGATT</th>\n",
       "      <th>CCCATCTGTTATCTGT</th>\n",
       "      <th>ATCATGAGGTAGTCTAG</th>\n",
       "      <th>TGATACGTGCTTGACGGAC</th>\n",
       "      <th>AGGTCACAGGCATGGGT</th>\n",
       "      <th>TGAGTTCTGTTGGGAACCT</th>\n",
       "      <th>GAGGTCCCTTCGACTCCT</th>\n",
       "      <th>GATTAGACCGGCTTAC</th>\n",
       "      <th>GTTCAACTGGTTAGTG</th>\n",
       "    </tr>\n",
       "  </thead>\n",
       "  <tbody>\n",
       "    <tr>\n",
       "      <th>uc009vfc.1</th>\n",
       "      <td>49</td>\n",
       "      <td>50</td>\n",
       "      <td>48</td>\n",
       "      <td>33</td>\n",
       "      <td>47</td>\n",
       "      <td>42</td>\n",
       "      <td>40</td>\n",
       "      <td>21</td>\n",
       "      <td>171</td>\n",
       "      <td>28</td>\n",
       "      <td>...</td>\n",
       "      <td>4</td>\n",
       "      <td>1</td>\n",
       "      <td>3</td>\n",
       "      <td>5</td>\n",
       "      <td>8</td>\n",
       "      <td>5</td>\n",
       "      <td>2</td>\n",
       "      <td>3</td>\n",
       "      <td>4</td>\n",
       "      <td>12</td>\n",
       "    </tr>\n",
       "    <tr>\n",
       "      <th>uc009vew.1</th>\n",
       "      <td>50</td>\n",
       "      <td>45</td>\n",
       "      <td>57</td>\n",
       "      <td>28</td>\n",
       "      <td>72</td>\n",
       "      <td>59</td>\n",
       "      <td>44</td>\n",
       "      <td>40</td>\n",
       "      <td>155</td>\n",
       "      <td>58</td>\n",
       "      <td>...</td>\n",
       "      <td>10</td>\n",
       "      <td>2</td>\n",
       "      <td>4</td>\n",
       "      <td>3</td>\n",
       "      <td>1</td>\n",
       "      <td>4</td>\n",
       "      <td>4</td>\n",
       "      <td>6</td>\n",
       "      <td>5</td>\n",
       "      <td>10</td>\n",
       "    </tr>\n",
       "    <tr>\n",
       "      <th>Lars2</th>\n",
       "      <td>90</td>\n",
       "      <td>110</td>\n",
       "      <td>89</td>\n",
       "      <td>113</td>\n",
       "      <td>77</td>\n",
       "      <td>81</td>\n",
       "      <td>57</td>\n",
       "      <td>91</td>\n",
       "      <td>62</td>\n",
       "      <td>71</td>\n",
       "      <td>...</td>\n",
       "      <td>11</td>\n",
       "      <td>14</td>\n",
       "      <td>15</td>\n",
       "      <td>10</td>\n",
       "      <td>10</td>\n",
       "      <td>17</td>\n",
       "      <td>18</td>\n",
       "      <td>20</td>\n",
       "      <td>5</td>\n",
       "      <td>24</td>\n",
       "    </tr>\n",
       "    <tr>\n",
       "      <th>Hsp90ab1</th>\n",
       "      <td>143</td>\n",
       "      <td>103</td>\n",
       "      <td>104</td>\n",
       "      <td>112</td>\n",
       "      <td>111</td>\n",
       "      <td>90</td>\n",
       "      <td>94</td>\n",
       "      <td>125</td>\n",
       "      <td>55</td>\n",
       "      <td>84</td>\n",
       "      <td>...</td>\n",
       "      <td>12</td>\n",
       "      <td>13</td>\n",
       "      <td>11</td>\n",
       "      <td>6</td>\n",
       "      <td>15</td>\n",
       "      <td>3</td>\n",
       "      <td>14</td>\n",
       "      <td>9</td>\n",
       "      <td>10</td>\n",
       "      <td>11</td>\n",
       "    </tr>\n",
       "    <tr>\n",
       "      <th>Ptma</th>\n",
       "      <td>67</td>\n",
       "      <td>136</td>\n",
       "      <td>85</td>\n",
       "      <td>66</td>\n",
       "      <td>96</td>\n",
       "      <td>73</td>\n",
       "      <td>74</td>\n",
       "      <td>80</td>\n",
       "      <td>34</td>\n",
       "      <td>64</td>\n",
       "      <td>...</td>\n",
       "      <td>11</td>\n",
       "      <td>10</td>\n",
       "      <td>5</td>\n",
       "      <td>3</td>\n",
       "      <td>10</td>\n",
       "      <td>7</td>\n",
       "      <td>14</td>\n",
       "      <td>7</td>\n",
       "      <td>16</td>\n",
       "      <td>8</td>\n",
       "    </tr>\n",
       "  </tbody>\n",
       "</table>\n",
       "<p>5 rows × 900 columns</p>\n",
       "</div>"
      ],
      "text/plain": [
       "            AGCACCTCTAAGCTTCT  GAGACAGATACGCTAGTC  CCAACCGTCGATTGAT  \\\n",
       "uc009vfc.1                 49                  50                48   \n",
       "uc009vew.1                 50                  45                57   \n",
       "Lars2                      90                 110                89   \n",
       "Hsp90ab1                  143                 103               104   \n",
       "Ptma                       67                 136                85   \n",
       "\n",
       "            TGATATTGCCTAACAATCC  ATATGCATACTAGGAT  GACTAGACCCAAACGCCT  \\\n",
       "uc009vfc.1                   33                47                  42   \n",
       "uc009vew.1                   28                72                  59   \n",
       "Lars2                       113                77                  81   \n",
       "Hsp90ab1                    112               111                  90   \n",
       "Ptma                         66                96                  73   \n",
       "\n",
       "            ACCTTGCCAAACCTCC  GATGACCCTCACCTTGCC  AATATACCTATATGCAT  \\\n",
       "uc009vfc.1                40                  21                171   \n",
       "uc009vew.1                44                  40                155   \n",
       "Lars2                     57                  91                 62   \n",
       "Hsp90ab1                  94                 125                 55   \n",
       "Ptma                      74                  80                 34   \n",
       "\n",
       "            GATAACCATCCCTCGTCT        ...         TGAATGCATGGGGTTAGTG  \\\n",
       "uc009vfc.1                  28        ...                           4   \n",
       "uc009vew.1                  58        ...                          10   \n",
       "Lars2                       71        ...                          11   \n",
       "Hsp90ab1                    84        ...                          12   \n",
       "Ptma                        64        ...                          11   \n",
       "\n",
       "            TGAAGCGTAGGGAACGATT  CCCATCTGTTATCTGT  ATCATGAGGTAGTCTAG  \\\n",
       "uc009vfc.1                    1                 3                  5   \n",
       "uc009vew.1                    2                 4                  3   \n",
       "Lars2                        14                15                 10   \n",
       "Hsp90ab1                     13                11                  6   \n",
       "Ptma                         10                 5                  3   \n",
       "\n",
       "            TGATACGTGCTTGACGGAC  AGGTCACAGGCATGGGT  TGAGTTCTGTTGGGAACCT  \\\n",
       "uc009vfc.1                    8                  5                    2   \n",
       "uc009vew.1                    1                  4                    4   \n",
       "Lars2                        10                 17                   18   \n",
       "Hsp90ab1                     15                  3                   14   \n",
       "Ptma                         10                  7                   14   \n",
       "\n",
       "            GAGGTCCCTTCGACTCCT  GATTAGACCGGCTTAC  GTTCAACTGGTTAGTG  \n",
       "uc009vfc.1                   3                 4                12  \n",
       "uc009vew.1                   6                 5                10  \n",
       "Lars2                       20                 5                24  \n",
       "Hsp90ab1                     9                10                11  \n",
       "Ptma                         7                16                 8  \n",
       "\n",
       "[5 rows x 900 columns]"
      ]
     },
     "execution_count": 38,
     "metadata": {},
     "output_type": "execute_result"
    }
   ],
   "source": [
    "data = pd.read_csv(\"../data/srr1784310_subset.csv\", index_col=0)\n",
    "data.head()"
   ]
  },
  {
   "cell_type": "markdown",
   "metadata": {
    "run_control": {
     "frozen": false,
     "read_only": false
    }
   },
   "source": [
    "<span style=\"color:red\">DataFrame works similar to np.array, so you don't need to convert the type:</span>"
   ]
  },
  {
   "cell_type": "code",
   "execution_count": 39,
   "metadata": {
    "run_control": {
     "frozen": false,
     "read_only": false
    }
   },
   "outputs": [
    {
     "data": {
      "text/html": [
       "<div>\n",
       "<table border=\"1\" class=\"dataframe\">\n",
       "  <thead>\n",
       "    <tr style=\"text-align: right;\">\n",
       "      <th></th>\n",
       "      <th>AGCACCTCTAAGCTTCT</th>\n",
       "      <th>GAGACAGATACGCTAGTC</th>\n",
       "      <th>CCAACCGTCGATTGAT</th>\n",
       "      <th>TGATATTGCCTAACAATCC</th>\n",
       "      <th>ATATGCATACTAGGAT</th>\n",
       "      <th>GACTAGACCCAAACGCCT</th>\n",
       "      <th>ACCTTGCCAAACCTCC</th>\n",
       "      <th>GATGACCCTCACCTTGCC</th>\n",
       "      <th>AATATACCTATATGCAT</th>\n",
       "      <th>GATAACCATCCCTCGTCT</th>\n",
       "      <th>...</th>\n",
       "      <th>TGAATGCATGGGGTTAGTG</th>\n",
       "      <th>TGAAGCGTAGGGAACGATT</th>\n",
       "      <th>CCCATCTGTTATCTGT</th>\n",
       "      <th>ATCATGAGGTAGTCTAG</th>\n",
       "      <th>TGATACGTGCTTGACGGAC</th>\n",
       "      <th>AGGTCACAGGCATGGGT</th>\n",
       "      <th>TGAGTTCTGTTGGGAACCT</th>\n",
       "      <th>GAGGTCCCTTCGACTCCT</th>\n",
       "      <th>GATTAGACCGGCTTAC</th>\n",
       "      <th>GTTCAACTGGTTAGTG</th>\n",
       "    </tr>\n",
       "  </thead>\n",
       "  <tbody>\n",
       "    <tr>\n",
       "      <th>uc009vfc.1</th>\n",
       "      <td>0.001454</td>\n",
       "      <td>0.001404</td>\n",
       "      <td>0.001463</td>\n",
       "      <td>0.001231</td>\n",
       "      <td>0.001563</td>\n",
       "      <td>0.001743</td>\n",
       "      <td>0.001677</td>\n",
       "      <td>0.000813</td>\n",
       "      <td>0.007715</td>\n",
       "      <td>0.001302</td>\n",
       "      <td>...</td>\n",
       "      <td>0.001227</td>\n",
       "      <td>0.000280</td>\n",
       "      <td>0.001045</td>\n",
       "      <td>0.00170</td>\n",
       "      <td>0.002315</td>\n",
       "      <td>0.001548</td>\n",
       "      <td>0.000595</td>\n",
       "      <td>0.001002</td>\n",
       "      <td>0.001246</td>\n",
       "      <td>0.003578</td>\n",
       "    </tr>\n",
       "    <tr>\n",
       "      <th>uc009vew.1</th>\n",
       "      <td>0.001483</td>\n",
       "      <td>0.001263</td>\n",
       "      <td>0.001737</td>\n",
       "      <td>0.001044</td>\n",
       "      <td>0.002394</td>\n",
       "      <td>0.002448</td>\n",
       "      <td>0.001844</td>\n",
       "      <td>0.001549</td>\n",
       "      <td>0.006993</td>\n",
       "      <td>0.002697</td>\n",
       "      <td>...</td>\n",
       "      <td>0.003067</td>\n",
       "      <td>0.000559</td>\n",
       "      <td>0.001393</td>\n",
       "      <td>0.00102</td>\n",
       "      <td>0.000289</td>\n",
       "      <td>0.001238</td>\n",
       "      <td>0.001190</td>\n",
       "      <td>0.002005</td>\n",
       "      <td>0.001558</td>\n",
       "      <td>0.002982</td>\n",
       "    </tr>\n",
       "    <tr>\n",
       "      <th>Lars2</th>\n",
       "      <td>0.002670</td>\n",
       "      <td>0.003088</td>\n",
       "      <td>0.002713</td>\n",
       "      <td>0.004214</td>\n",
       "      <td>0.002560</td>\n",
       "      <td>0.003361</td>\n",
       "      <td>0.002389</td>\n",
       "      <td>0.003523</td>\n",
       "      <td>0.002797</td>\n",
       "      <td>0.003302</td>\n",
       "      <td>...</td>\n",
       "      <td>0.003374</td>\n",
       "      <td>0.003915</td>\n",
       "      <td>0.005225</td>\n",
       "      <td>0.00340</td>\n",
       "      <td>0.002894</td>\n",
       "      <td>0.005262</td>\n",
       "      <td>0.005356</td>\n",
       "      <td>0.006682</td>\n",
       "      <td>0.001558</td>\n",
       "      <td>0.007156</td>\n",
       "    </tr>\n",
       "    <tr>\n",
       "      <th>Hsp90ab1</th>\n",
       "      <td>0.004243</td>\n",
       "      <td>0.002892</td>\n",
       "      <td>0.003170</td>\n",
       "      <td>0.004177</td>\n",
       "      <td>0.003691</td>\n",
       "      <td>0.003735</td>\n",
       "      <td>0.003940</td>\n",
       "      <td>0.004840</td>\n",
       "      <td>0.002481</td>\n",
       "      <td>0.003906</td>\n",
       "      <td>...</td>\n",
       "      <td>0.003681</td>\n",
       "      <td>0.003635</td>\n",
       "      <td>0.003831</td>\n",
       "      <td>0.00204</td>\n",
       "      <td>0.004340</td>\n",
       "      <td>0.000929</td>\n",
       "      <td>0.004165</td>\n",
       "      <td>0.003007</td>\n",
       "      <td>0.003115</td>\n",
       "      <td>0.003280</td>\n",
       "    </tr>\n",
       "    <tr>\n",
       "      <th>Ptma</th>\n",
       "      <td>0.001988</td>\n",
       "      <td>0.003818</td>\n",
       "      <td>0.002591</td>\n",
       "      <td>0.002461</td>\n",
       "      <td>0.003192</td>\n",
       "      <td>0.003029</td>\n",
       "      <td>0.003102</td>\n",
       "      <td>0.003098</td>\n",
       "      <td>0.001534</td>\n",
       "      <td>0.002976</td>\n",
       "      <td>...</td>\n",
       "      <td>0.003374</td>\n",
       "      <td>0.002796</td>\n",
       "      <td>0.001742</td>\n",
       "      <td>0.00102</td>\n",
       "      <td>0.002894</td>\n",
       "      <td>0.002167</td>\n",
       "      <td>0.004165</td>\n",
       "      <td>0.002339</td>\n",
       "      <td>0.004984</td>\n",
       "      <td>0.002385</td>\n",
       "    </tr>\n",
       "  </tbody>\n",
       "</table>\n",
       "<p>5 rows × 900 columns</p>\n",
       "</div>"
      ],
      "text/plain": [
       "            AGCACCTCTAAGCTTCT  GAGACAGATACGCTAGTC  CCAACCGTCGATTGAT  \\\n",
       "uc009vfc.1           0.001454            0.001404          0.001463   \n",
       "uc009vew.1           0.001483            0.001263          0.001737   \n",
       "Lars2                0.002670            0.003088          0.002713   \n",
       "Hsp90ab1             0.004243            0.002892          0.003170   \n",
       "Ptma                 0.001988            0.003818          0.002591   \n",
       "\n",
       "            TGATATTGCCTAACAATCC  ATATGCATACTAGGAT  GACTAGACCCAAACGCCT  \\\n",
       "uc009vfc.1             0.001231          0.001563            0.001743   \n",
       "uc009vew.1             0.001044          0.002394            0.002448   \n",
       "Lars2                  0.004214          0.002560            0.003361   \n",
       "Hsp90ab1               0.004177          0.003691            0.003735   \n",
       "Ptma                   0.002461          0.003192            0.003029   \n",
       "\n",
       "            ACCTTGCCAAACCTCC  GATGACCCTCACCTTGCC  AATATACCTATATGCAT  \\\n",
       "uc009vfc.1          0.001677            0.000813           0.007715   \n",
       "uc009vew.1          0.001844            0.001549           0.006993   \n",
       "Lars2               0.002389            0.003523           0.002797   \n",
       "Hsp90ab1            0.003940            0.004840           0.002481   \n",
       "Ptma                0.003102            0.003098           0.001534   \n",
       "\n",
       "            GATAACCATCCCTCGTCT        ...         TGAATGCATGGGGTTAGTG  \\\n",
       "uc009vfc.1            0.001302        ...                    0.001227   \n",
       "uc009vew.1            0.002697        ...                    0.003067   \n",
       "Lars2                 0.003302        ...                    0.003374   \n",
       "Hsp90ab1              0.003906        ...                    0.003681   \n",
       "Ptma                  0.002976        ...                    0.003374   \n",
       "\n",
       "            TGAAGCGTAGGGAACGATT  CCCATCTGTTATCTGT  ATCATGAGGTAGTCTAG  \\\n",
       "uc009vfc.1             0.000280          0.001045            0.00170   \n",
       "uc009vew.1             0.000559          0.001393            0.00102   \n",
       "Lars2                  0.003915          0.005225            0.00340   \n",
       "Hsp90ab1               0.003635          0.003831            0.00204   \n",
       "Ptma                   0.002796          0.001742            0.00102   \n",
       "\n",
       "            TGATACGTGCTTGACGGAC  AGGTCACAGGCATGGGT  TGAGTTCTGTTGGGAACCT  \\\n",
       "uc009vfc.1             0.002315           0.001548             0.000595   \n",
       "uc009vew.1             0.000289           0.001238             0.001190   \n",
       "Lars2                  0.002894           0.005262             0.005356   \n",
       "Hsp90ab1               0.004340           0.000929             0.004165   \n",
       "Ptma                   0.002894           0.002167             0.004165   \n",
       "\n",
       "            GAGGTCCCTTCGACTCCT  GATTAGACCGGCTTAC  GTTCAACTGGTTAGTG  \n",
       "uc009vfc.1            0.001002          0.001246          0.003578  \n",
       "uc009vew.1            0.002005          0.001558          0.002982  \n",
       "Lars2                 0.006682          0.001558          0.007156  \n",
       "Hsp90ab1              0.003007          0.003115          0.003280  \n",
       "Ptma                  0.002339          0.004984          0.002385  \n",
       "\n",
       "[5 rows x 900 columns]"
      ]
     },
     "execution_count": 39,
     "metadata": {},
     "output_type": "execute_result"
    }
   ],
   "source": [
    "normal_data = totalCountNormalization(data)\n",
    "normal_data.head()"
   ]
  },
  {
   "cell_type": "markdown",
   "metadata": {
    "run_control": {
     "frozen": false,
     "read_only": false
    }
   },
   "source": [
    "<span style=\"color:red\">Validation (\"isclose\" is a proper way to check equality of float values):</span>"
   ]
  },
  {
   "cell_type": "code",
   "execution_count": 43,
   "metadata": {
    "run_control": {
     "frozen": false,
     "read_only": false
    }
   },
   "outputs": [
    {
     "data": {
      "text/plain": [
       "True"
      ]
     },
     "execution_count": 43,
     "metadata": {},
     "output_type": "execute_result"
    }
   ],
   "source": [
    "np.isclose(normal_data.sum(axis=0), 1).all()"
   ]
  },
  {
   "cell_type": "code",
   "execution_count": null,
   "metadata": {
    "collapsed": true,
    "run_control": {
     "frozen": false,
     "read_only": false
    }
   },
   "outputs": [],
   "source": []
  }
 ],
 "metadata": {
  "hide_input": false,
  "kernelspec": {
   "display_name": "Python 3",
   "language": "python",
   "name": "python3"
  },
  "language_info": {
   "codemirror_mode": {
    "name": "ipython",
    "version": 3
   },
   "file_extension": ".py",
   "mimetype": "text/x-python",
   "name": "python",
   "nbconvert_exporter": "python",
   "pygments_lexer": "ipython3",
   "version": "3.6.0"
  },
  "varInspector": {
   "cols": {
    "lenName": 16,
    "lenType": 16,
    "lenVar": 40
   },
   "kernels_config": {
    "python": {
     "delete_cmd_postfix": "",
     "delete_cmd_prefix": "del ",
     "library": "var_list.py",
     "varRefreshCmd": "print(var_dic_list())"
    },
    "r": {
     "delete_cmd_postfix": ") ",
     "delete_cmd_prefix": "rm(",
     "library": "var_list.r",
     "varRefreshCmd": "cat(var_dic_list()) "
    }
   },
   "types_to_exclude": [
    "module",
    "function",
    "builtin_function_or_method",
    "instance",
    "_Feature"
   ],
   "window_display": false
  }
 },
 "nbformat": 4,
 "nbformat_minor": 2
}
