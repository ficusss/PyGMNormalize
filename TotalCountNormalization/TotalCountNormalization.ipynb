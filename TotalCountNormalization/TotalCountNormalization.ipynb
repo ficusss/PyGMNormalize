{
 "cells": [
  {
   "cell_type": "markdown",
   "metadata": {
    "collapsed": true
   },
   "source": [
    "Read input data."
   ]
  },
  {
   "cell_type": "code",
   "execution_count": 12,
   "metadata": {},
   "outputs": [],
   "source": [
    "def readData(fileName):\n",
    "    file = open(fileName, \"r\")\n",
    "    matrix = []\n",
    "    for line in file:\n",
    "        matrix.append([int(i) for i in line.split()])\n",
    "    file.close()\n",
    "    return matrix"
   ]
  },
  {
   "cell_type": "markdown",
   "metadata": {},
   "source": [
    "Write result data."
   ]
  },
  {
   "cell_type": "code",
   "execution_count": 16,
   "metadata": {
    "collapsed": true
   },
   "outputs": [],
   "source": [
    "def writeData(fileName, matrix):\n",
    "    file = open(fileName, \"w\")\n",
    "    for row in matrix:\n",
    "        for col in row:\n",
    "            file.write(str(col) + ' ')\n",
    "        file.write('\\n')\n",
    "    file.close()"
   ]
  },
  {
   "cell_type": "markdown",
   "metadata": {},
   "source": [
    "Function for total count normalization.\n",
    "Input - matrix."
   ]
  },
  {
   "cell_type": "code",
   "execution_count": 17,
   "metadata": {
    "collapsed": true
   },
   "outputs": [],
   "source": [
    "def totalCountNormalization_kernel(matrix):\n",
    "    normal_matrix = []\n",
    "    for row in matrix:\n",
    "        sum_elements_in_row = sum(row)\n",
    "        normal_row = list(map(lambda x: x / sum_elements_in_row, row))\n",
    "        normal_matrix.append(normal_row)\n",
    "    return normal_matrix"
   ]
  },
  {
   "cell_type": "markdown",
   "metadata": {},
   "source": [
    "Test for totalCountNormalization_kernel(matrix)"
   ]
  },
  {
   "cell_type": "code",
   "execution_count": 18,
   "metadata": {},
   "outputs": [],
   "source": [
    "matrix = readData('dataset.txt')\n",
    "normal_matrix = totalCountNormalization_kernel(matrix)\n",
    "writeData('normal_dataset.txt', normal_matrix)"
   ]
  },
  {
   "cell_type": "markdown",
   "metadata": {
    "collapsed": true
   },
   "source": [
    "Performance test:"
   ]
  },
  {
   "cell_type": "code",
   "execution_count": 2,
   "metadata": {},
   "outputs": [
    {
     "name": "stdout",
     "output_type": "stream",
     "text": [
      "CPU times: user 4 s, sys: 86 ms, total: 4.09 s\n",
      "Wall time: 4.09 s\n"
     ]
    }
   ],
   "source": [
    "import numpy as np\n",
    "matrix = np.random.randint(0, 1000, size=(3000, 5000))\n",
    "\n",
    "%time normal_matrix = totalCountNormalization_kernel(matrix)"
   ]
  }
 ],
 "metadata": {
  "kernelspec": {
   "display_name": "Python 3",
   "language": "python",
   "name": "python3"
  },
  "language_info": {
   "codemirror_mode": {
    "name": "ipython",
    "version": 3
   },
   "file_extension": ".py",
   "mimetype": "text/x-python",
   "name": "python",
   "nbconvert_exporter": "python",
   "pygments_lexer": "ipython3",
   "version": "3.6.1"
  }
 },
 "nbformat": 4,
 "nbformat_minor": 2
}
