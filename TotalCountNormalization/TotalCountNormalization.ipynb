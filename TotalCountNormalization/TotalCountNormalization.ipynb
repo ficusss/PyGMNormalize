{
 "cells": [
  {
   "cell_type": "markdown",
   "metadata": {
    "collapsed": true
   },
   "source": [
    "Read input data."
   ]
  },
  {
   "cell_type": "code",
   "execution_count": 165,
   "metadata": {
    "collapsed": true
   },
   "outputs": [],
   "source": [
    "def readData(fileName):\n",
    "    file = open(fileName, \"r\")\n",
    "    matrix = []\n",
    "    for line in file:\n",
    "        matrix.append(np.array([int(i) for i in line.split()]))\n",
    "    file.close()\n",
    "    return np.array(matrix)"
   ]
  },
  {
   "cell_type": "markdown",
   "metadata": {},
   "source": [
    "Function for total count normalization."
   ]
  },
  {
   "cell_type": "code",
   "execution_count": 166,
   "metadata": {},
   "outputs": [],
   "source": [
    "def totalCountNormalization(matrix):\n",
    "    normal_matrix = np.empty(matrix.shape)\n",
    "    for i in range(matrix.shape[1]):\n",
    "        s = np.linalg.norm(matrix[:, i], ord=1)\n",
    "        normal_matrix[:, i] = matrix[:, i] / s\n",
    "    return normal_matrix"
   ]
  },
  {
   "cell_type": "markdown",
   "metadata": {},
   "source": [
    "Numeric test:"
   ]
  },
  {
   "cell_type": "code",
   "execution_count": 167,
   "metadata": {},
   "outputs": [
    {
     "name": "stdout",
     "output_type": "stream",
     "text": [
      "Before =\n",
      " [[  5  10   1]\n",
      " [ 10  20   2]\n",
      " [  1   2   5]\n",
      " [353   0   2]\n",
      " [  7   7   7]\n",
      " [  9   9   9]\n",
      " [  8   9   8]\n",
      " [  1   4   1]]\n",
      "\n",
      "After =\n",
      " [[ 0.01269036  0.16393443  0.02857143]\n",
      " [ 0.02538071  0.32786885  0.05714286]\n",
      " [ 0.00253807  0.03278689  0.14285714]\n",
      " [ 0.89593909  0.          0.05714286]\n",
      " [ 0.0177665   0.1147541   0.2       ]\n",
      " [ 0.02284264  0.14754098  0.25714286]\n",
      " [ 0.02030457  0.14754098  0.22857143]\n",
      " [ 0.00253807  0.06557377  0.02857143]]\n"
     ]
    }
   ],
   "source": [
    "matrix = readData('dataset.txt')\n",
    "print(\"Before =\\n\", matrix, end='\\n\\n')\n",
    "normal_matrix = totalCountNormalization(matrix)\n",
    "print(\"After =\\n\", normal_matrix)"
   ]
  },
  {
   "cell_type": "markdown",
   "metadata": {
    "collapsed": true
   },
   "source": [
    "Performance test:"
   ]
  },
  {
   "cell_type": "code",
   "execution_count": 168,
   "metadata": {},
   "outputs": [
    {
     "name": "stdout",
     "output_type": "stream",
     "text": [
      "totalCountNormalization - Wall time: 838 ms\n"
     ]
    }
   ],
   "source": [
    "import numpy as np\n",
    "matrix = np.random.randint(0, 1000, size=(3000, 5000))\n",
    "\n",
    "print(\"totalCountNormalization - \", end=\"\")\n",
    "%time normal_matrix = totalCountNormalization(matrix)"
   ]
  },
  {
   "cell_type": "markdown",
   "metadata": {},
   "source": [
    "Read matrix from .csv file and normalization it:"
   ]
  },
  {
   "cell_type": "code",
   "execution_count": 169,
   "metadata": {},
   "outputs": [
    {
     "name": "stdout",
     "output_type": "stream",
     "text": [
      "   Unnamed: 0  AGCACCTCTAAGCTTCT  GAGACAGATACGCTAGTC  CCAACCGTCGATTGAT  \\\n",
      "0  uc009vfc.1                 49                  50                48   \n",
      "1  uc009vew.1                 50                  45                57   \n",
      "2       Lars2                 90                 110                89   \n",
      "3    Hsp90ab1                143                 103               104   \n",
      "4        Ptma                 67                 136                85   \n",
      "\n",
      "   TGATATTGCCTAACAATCC  ATATGCATACTAGGAT  GACTAGACCCAAACGCCT  \\\n",
      "0                   33                47                  42   \n",
      "1                   28                72                  59   \n",
      "2                  113                77                  81   \n",
      "3                  112               111                  90   \n",
      "4                   66                96                  73   \n",
      "\n",
      "   ACCTTGCCAAACCTCC  GATGACCCTCACCTTGCC  AATATACCTATATGCAT        ...         \\\n",
      "0                40                  21                171        ...          \n",
      "1                44                  40                155        ...          \n",
      "2                57                  91                 62        ...          \n",
      "3                94                 125                 55        ...          \n",
      "4                74                  80                 34        ...          \n",
      "\n",
      "   TGAATGCATGGGGTTAGTG  TGAAGCGTAGGGAACGATT  CCCATCTGTTATCTGT  \\\n",
      "0                    4                    1                 3   \n",
      "1                   10                    2                 4   \n",
      "2                   11                   14                15   \n",
      "3                   12                   13                11   \n",
      "4                   11                   10                 5   \n",
      "\n",
      "   ATCATGAGGTAGTCTAG  TGATACGTGCTTGACGGAC  AGGTCACAGGCATGGGT  \\\n",
      "0                  5                    8                  5   \n",
      "1                  3                    1                  4   \n",
      "2                 10                   10                 17   \n",
      "3                  6                   15                  3   \n",
      "4                  3                   10                  7   \n",
      "\n",
      "   TGAGTTCTGTTGGGAACCT  GAGGTCCCTTCGACTCCT  GATTAGACCGGCTTAC  GTTCAACTGGTTAGTG  \n",
      "0                    2                   3                 4                12  \n",
      "1                    4                   6                 5                10  \n",
      "2                   18                  20                 5                24  \n",
      "3                   14                   9                10                11  \n",
      "4                   14                   7                16                 8  \n",
      "\n",
      "[5 rows x 901 columns]\n",
      "        0         1         2         3         4         5         6    \\\n",
      "0  0.001486  0.001265  0.001740  0.001046  0.002398  0.002453  0.001847   \n",
      "1  0.002674  0.003093  0.002717  0.004220  0.002564  0.003367  0.002393   \n",
      "2  0.004249  0.002896  0.003175  0.004182  0.003697  0.003741  0.003947   \n",
      "3  0.001991  0.003824  0.002595  0.002465  0.003197  0.003035  0.003107   \n",
      "4  0.003565  0.004864  0.003724  0.003174  0.003497  0.002993  0.003611   \n",
      "\n",
      "        7         8         9      ...          890       891       892  \\\n",
      "0  0.001550  0.007047  0.002701    ...     0.003071  0.000559  0.001395   \n",
      "1  0.003526  0.002819  0.003306    ...     0.003378  0.003916  0.005230   \n",
      "2  0.004844  0.002501  0.003912    ...     0.003686  0.003636  0.003835   \n",
      "3  0.003100  0.001546  0.002980    ...     0.003378  0.002797  0.001743   \n",
      "4  0.003410  0.002591  0.004005    ...     0.003071  0.004196  0.001395   \n",
      "\n",
      "        893       894      895       896       897       898       899  \n",
      "0  0.001022  0.000290  0.00124  0.001191  0.002007  0.001560  0.002992  \n",
      "1  0.003406  0.002900  0.00527  0.005359  0.006689  0.001560  0.007181  \n",
      "2  0.002044  0.004350  0.00093  0.004168  0.003010  0.003119  0.003291  \n",
      "3  0.001022  0.002900  0.00217  0.004168  0.002341  0.004991  0.002394  \n",
      "4  0.001362  0.006961  0.00496  0.004763  0.004013  0.004055  0.004189  \n",
      "\n",
      "[5 rows x 900 columns]\n"
     ]
    }
   ],
   "source": [
    "import pandas as pd\n",
    "data = pd.read_csv(\"srr1784310_subset.csv\", sep=',')\n",
    "print(data.head())\n",
    "normal_data = pd.DataFrame(totalCountNormalization(np.array(data.iloc[1:, 1:])))\n",
    "print(normal_data.head())"
   ]
  },
  {
   "cell_type": "code",
   "execution_count": null,
   "metadata": {
    "collapsed": true
   },
   "outputs": [],
   "source": []
  }
 ],
 "metadata": {
  "kernelspec": {
   "display_name": "Python 3",
   "language": "python",
   "name": "python3"
  },
  "language_info": {
   "codemirror_mode": {
    "name": "ipython",
    "version": 3
   },
   "file_extension": ".py",
   "mimetype": "text/x-python",
   "name": "python",
   "nbconvert_exporter": "python",
   "pygments_lexer": "ipython3",
   "version": "3.6.1"
  }
 },
 "nbformat": 4,
 "nbformat_minor": 2
}
