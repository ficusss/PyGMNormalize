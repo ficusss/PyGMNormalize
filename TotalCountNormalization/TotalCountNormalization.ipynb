{
 "cells": [
  {
   "cell_type": "markdown",
   "metadata": {
    "collapsed": true
   },
   "source": [
    "Import."
   ]
  },
  {
   "cell_type": "code",
   "execution_count": 6,
   "metadata": {
    "collapsed": true
   },
   "outputs": [],
   "source": [
    "import numpy as np\n",
    "import pandas as pd"
   ]
  },
  {
   "cell_type": "markdown",
   "metadata": {},
   "source": [
    "Read input data."
   ]
  },
  {
   "cell_type": "code",
   "execution_count": 7,
   "metadata": {
    "collapsed": true
   },
   "outputs": [],
   "source": [
    "def readData(fileName):\n",
    "    file = open(fileName, \"r\")\n",
    "    matrix = []\n",
    "    for line in file:\n",
    "        matrix.append(np.array([int(i) for i in line.split()]))\n",
    "    file.close()\n",
    "    return np.array(matrix)"
   ]
  },
  {
   "cell_type": "markdown",
   "metadata": {},
   "source": [
    "Function for total count normalization."
   ]
  },
  {
   "cell_type": "code",
   "execution_count": 8,
   "metadata": {
    "collapsed": true
   },
   "outputs": [],
   "source": [
    "def totalCountNormalization(matrix):\n",
    "    return matrix / matrix.sum(axis=0)"
   ]
  },
  {
   "cell_type": "markdown",
   "metadata": {},
   "source": [
    "Numeric test:"
   ]
  },
  {
   "cell_type": "code",
   "execution_count": 9,
   "metadata": {},
   "outputs": [
    {
     "name": "stdout",
     "output_type": "stream",
     "text": [
      "Before =\n",
      " [[  5  10   1]\n",
      " [ 10  20   2]\n",
      " [  1   2   5]\n",
      " [353   0   2]\n",
      " [  7   7   7]\n",
      " [  9   9   9]\n",
      " [  8   9   8]\n",
      " [  1   4   1]]\n",
      "\n",
      "After =\n",
      " [[ 0.01269036  0.16393443  0.02857143]\n",
      " [ 0.02538071  0.32786885  0.05714286]\n",
      " [ 0.00253807  0.03278689  0.14285714]\n",
      " [ 0.89593909  0.          0.05714286]\n",
      " [ 0.0177665   0.1147541   0.2       ]\n",
      " [ 0.02284264  0.14754098  0.25714286]\n",
      " [ 0.02030457  0.14754098  0.22857143]\n",
      " [ 0.00253807  0.06557377  0.02857143]]\n"
     ]
    }
   ],
   "source": [
    "matrix = readData('dataset.txt')\n",
    "print(\"Before =\\n\", matrix, end='\\n\\n')\n",
    "normal_matrix = totalCountNormalization(matrix)\n",
    "print(\"After =\\n\", normal_matrix)"
   ]
  },
  {
   "cell_type": "markdown",
   "metadata": {
    "collapsed": true
   },
   "source": [
    "Performance test:"
   ]
  },
  {
   "cell_type": "code",
   "execution_count": 11,
   "metadata": {},
   "outputs": [
    {
     "name": "stdout",
     "output_type": "stream",
     "text": [
      "totalCountNormalization - Wall time: 148 ms\n"
     ]
    }
   ],
   "source": [
    "matrix = np.random.randint(0, 1000, size=(3000, 5000))\n",
    "\n",
    "print(\"totalCountNormalization - \", end=\"\")\n",
    "%time normal_matrix = totalCountNormalization(matrix)"
   ]
  },
  {
   "cell_type": "markdown",
   "metadata": {},
   "source": [
    "Read matrix from .csv file and normalization it:"
   ]
  },
  {
   "cell_type": "code",
   "execution_count": 12,
   "metadata": {},
   "outputs": [
    {
     "name": "stdout",
     "output_type": "stream",
     "text": [
      "   Unnamed: 0  AGCACCTCTAAGCTTCT  GAGACAGATACGCTAGTC  CCAACCGTCGATTGAT  \\\n",
      "0  uc009vfc.1                 49                  50                48   \n",
      "1  uc009vew.1                 50                  45                57   \n",
      "2       Lars2                 90                 110                89   \n",
      "3    Hsp90ab1                143                 103               104   \n",
      "4        Ptma                 67                 136                85   \n",
      "\n",
      "   TGATATTGCCTAACAATCC  ATATGCATACTAGGAT  GACTAGACCCAAACGCCT  \\\n",
      "0                   33                47                  42   \n",
      "1                   28                72                  59   \n",
      "2                  113                77                  81   \n",
      "3                  112               111                  90   \n",
      "4                   66                96                  73   \n",
      "\n",
      "   ACCTTGCCAAACCTCC  GATGACCCTCACCTTGCC  AATATACCTATATGCAT        ...         \\\n",
      "0                40                  21                171        ...          \n",
      "1                44                  40                155        ...          \n",
      "2                57                  91                 62        ...          \n",
      "3                94                 125                 55        ...          \n",
      "4                74                  80                 34        ...          \n",
      "\n",
      "   TGAATGCATGGGGTTAGTG  TGAAGCGTAGGGAACGATT  CCCATCTGTTATCTGT  \\\n",
      "0                    4                    1                 3   \n",
      "1                   10                    2                 4   \n",
      "2                   11                   14                15   \n",
      "3                   12                   13                11   \n",
      "4                   11                   10                 5   \n",
      "\n",
      "   ATCATGAGGTAGTCTAG  TGATACGTGCTTGACGGAC  AGGTCACAGGCATGGGT  \\\n",
      "0                  5                    8                  5   \n",
      "1                  3                    1                  4   \n",
      "2                 10                   10                 17   \n",
      "3                  6                   15                  3   \n",
      "4                  3                   10                  7   \n",
      "\n",
      "   TGAGTTCTGTTGGGAACCT  GAGGTCCCTTCGACTCCT  GATTAGACCGGCTTAC  GTTCAACTGGTTAGTG  \n",
      "0                    2                   3                 4                12  \n",
      "1                    4                   6                 5                10  \n",
      "2                   18                  20                 5                24  \n",
      "3                   14                   9                10                11  \n",
      "4                   14                   7                16                 8  \n",
      "\n",
      "[5 rows x 901 columns]\n",
      "        0         1         2         3         4         5         6    \\\n",
      "0  0.001454  0.001404  0.001463  0.001231  0.001563  0.001743  0.001677   \n",
      "1  0.001483  0.001263  0.001737  0.001044  0.002394  0.002448  0.001844   \n",
      "2  0.002670  0.003088  0.002713  0.004214  0.002560  0.003361  0.002389   \n",
      "3  0.004243  0.002892  0.003170  0.004177  0.003691  0.003735  0.003940   \n",
      "4  0.001988  0.003818  0.002591  0.002461  0.003192  0.003029  0.003102   \n",
      "\n",
      "        7         8         9      ...          890       891       892  \\\n",
      "0  0.000813  0.007715  0.001302    ...     0.001227  0.000280  0.001045   \n",
      "1  0.001549  0.006993  0.002697    ...     0.003067  0.000559  0.001393   \n",
      "2  0.003523  0.002797  0.003302    ...     0.003374  0.003915  0.005225   \n",
      "3  0.004840  0.002481  0.003906    ...     0.003681  0.003635  0.003831   \n",
      "4  0.003098  0.001534  0.002976    ...     0.003374  0.002796  0.001742   \n",
      "\n",
      "       893       894       895       896       897       898       899  \n",
      "0  0.00170  0.002315  0.001548  0.000595  0.001002  0.001246  0.003578  \n",
      "1  0.00102  0.000289  0.001238  0.001190  0.002005  0.001558  0.002982  \n",
      "2  0.00340  0.002894  0.005262  0.005356  0.006682  0.001558  0.007156  \n",
      "3  0.00204  0.004340  0.000929  0.004165  0.003007  0.003115  0.003280  \n",
      "4  0.00102  0.002894  0.002167  0.004165  0.002339  0.004984  0.002385  \n",
      "\n",
      "[5 rows x 900 columns]\n"
     ]
    }
   ],
   "source": [
    "data = pd.read_csv(\"srr1784310_subset.csv\")\n",
    "print(data.head())\n",
    "normal_data = pd.DataFrame(totalCountNormalization(np.array(data.iloc[:, 1:])))\n",
    "print(normal_data.head())"
   ]
  },
  {
   "cell_type": "code",
   "execution_count": null,
   "metadata": {
    "collapsed": true
   },
   "outputs": [],
   "source": []
  }
 ],
 "metadata": {
  "kernelspec": {
   "display_name": "Python 3",
   "language": "python",
   "name": "python3"
  },
  "language_info": {
   "codemirror_mode": {
    "name": "ipython",
    "version": 3
   },
   "file_extension": ".py",
   "mimetype": "text/x-python",
   "name": "python",
   "nbconvert_exporter": "python",
   "pygments_lexer": "ipython3",
   "version": "3.6.1"
  }
 },
 "nbformat": 4,
 "nbformat_minor": 2
}
